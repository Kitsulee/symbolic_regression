{
 "cells": [
  {
   "cell_type": "markdown",
   "metadata": {},
   "source": [
    "# Regresión simbólica para sistemas de ecuaciones diferenciales\n",
    "\n",
    "### Enrique Martínez González"
   ]
  },
  {
   "cell_type": "markdown",
   "metadata": {},
   "source": [
    "Dado un conjunto de puntos de la forma (ti, yi) se desea determinar automáticamente el sistema de ecuaciones diferenciales ordinarias que mejor describe el conjunto de datos y que además, sea lineal en los parámetros. Qué significa que la ecuación diferencial sea lineal en los parámetros y que mejor describa los datos?\n",
    "\n",
    "Que el sistema sea lineal en los parámetros significa que cada componente de la parte derecha de la ecuación diferencial es una función de la forma:\n",
    "\n",
    "    f_j(t,y) = a1 * g1(t,y) + a2 * g2(t,y) + …  + an * gn(t,y)\n",
    "\n",
    "donde los ai son parámetros y todas las funciones gi(t,y) son funciones que dependen de la variable t, de la variable y, pero no dependen de ningún parámetro.  Un ejemplo de sistema que cumple esta características es el sistema SIR:\n",
    "\n",
    "    S’ = - a*I*S\n",
    "    I’ = a*I*S - b*I\n",
    "    R’ = b*I\n",
    "\n",
    "En este caso, se tiene que la función\n",
    "\n",
    "    f_S (t,S,I,R) = a1 * g_s1 (t,S,I,R)\n",
    "\n",
    "donde:\n",
    "\n",
    "    g_s1(t,S,I,R) = -I*S.\n",
    "\n",
    "La parte de derecha de la segunda ecuación (I’ = a\\*I\\*S - b*I) sería:\n",
    "\n",
    "    f_I (t,S,I,R) = b1 * g_I1 (t,S,I,R) + b2 * g_I2 (t,S,I,R)\n",
    "\n",
    "donde:\n",
    "    \n",
    "    g_I1(t,S,I,R) = I*S, y g_I2(t,S,I,R) = -I.\n",
    "\n",
    "La parte de derecha de la tercera ecuación (R’ = b*I) sería:\n",
    "\n",
    "    f_R (t,S,I,R) = b1 * g_R1 (t,S,I,R)\n",
    "\n",
    "donde:\n",
    "    \n",
    "    g_R1(t,S,I,R) = I.\n",
    "\n",
    "En este caso, se cumple además, que algunos de los parámetros presentes en varias de las ecuaciones son los mismos, pero eso no es un requisito para que sea lineal con respecto a las parámetros.\n",
    "\n",
    "Este sistema SIR se puede ver gráficamente como:\n",
    "\n",
    "![alt text](sir_model.png \"Title\")\n",
    "\n",
    "y este indica en una población con una enfermedad, como se va desplzando la cantidad de susceptibles, infectados y recuperados a lo largo del tiempo.\n"
   ]
  },
  {
   "cell_type": "markdown",
   "metadata": {},
   "source": [
    "Dado un conjunto de puntos de la forma (ti, yi) y un sistema de ecuaciones diferenciales y’ = f(t,y), se puede tener un indicador de cuán bien ese sistema describe esos datos.\n",
    "\n",
    "Si decimos que y(ti) es la solución de la ecuación diferencial evaluada en el punto ti, entonces un indicador de cuán bien ese sistema describe los datos pudiera ser el valor L:\n",
    "\n",
    "    L = (y(t1) - y1)^2 + (y(t2) - y2)^2 + …  + (y(tn) - yn)^2\n",
    "\n",
    "Esto es una suma de cuadrados, que se puede escribir con una sumatoria, aunque se expresa la versión explícita.\n",
    "\n",
    "Cuando se usa un valor como L en el que se considera la suma de cuadrados de las diferencias, se dice que estamos en presencia de un problema de mínimos cuadrados, porque lo que se quiere es minimizar esa suma de cuadrados.\n",
    "\n",
    "Entonces, buscar el sistema de ecuaciones diferenciales que mejor describe los datos, se reduce a buscar el sistema de ecuaciones diferenciales que haga que el valor de L (la suma de cuadrados) sea lo más pequeño posible.\n",
    "\n",
    "Pero, aquí no interesa cualquier sistema de ecuaciones diferenciales: interesa los que sean lineales con respecto a los parámetros\n",
    "\n",
    "Este sistema de ecuaciones diferenciales deseado se vería gráficamente como un sistema que solapa al original:\n",
    "\n",
    "![alt text](sir_model_wanted.png \"Title\")"
   ]
  },
  {
   "cell_type": "markdown",
   "metadata": {},
   "source": [
    "De manera natural se necesitan datos correspondientes a un sistema de ecuaciones diferenciales para encontrar el sistema que los describe.\n",
    "\n",
    "Para esto vamos a generar los datos de un modelo que ya conocemos para así comparar si el modelo obtenido por el algoritmo coincide con el original, tomaremos el modelo poblacional SIR:\n",
    "\n",
    "    S’ = - a*I*S\n",
    "    I’ = a*I*S - b*I\n",
    "    R’ = b*I\n",
    "\n",
    "Escribamos una función en python que describa este modelo:"
   ]
  },
  {
   "cell_type": "code",
   "execution_count": 1,
   "metadata": {},
   "outputs": [],
   "source": [
    "# modelo del SIR\n",
    "def sir_dx(X, t, a, b):\n",
    "    S = X[0]\n",
    "    I = X[1]\n",
    "    R = X[2]\n",
    "\n",
    "    return [-a * I * S, a * I * S - b * I, b * I]"
   ]
  },
  {
   "cell_type": "markdown",
   "metadata": {},
   "source": [
    "Se recibe el tiempo dentro de la función aunque no se utilice porque estamos haciendo este ejemplo para que sea lo más abarcador y genérico posible, además resaltar que a pesar de que las EDOS normalmente se representan como f(t,y), las librerías que estamos usando de python nos piden que se coloquen de la forma utilizada en el código. \n",
    "\n",
    "La función de la parte derecha de la ecuación diferencial recibe también los parámetros a y b, para poder resolver la EDO para distintos valores de los parámetros. En este modelo los valores de a y b son parámetros que indican la cantidad de personas que pasan de estar saludables a infectados y de infectados a recuperados, respectivamente.\n",
    "\n",
    "Para generar los datos debemos tener un punto inicial, o sea. Un cantidad de saludables, infectados y recuperados iniciales, además debemos conocer cuánto tiempo deseamos en los datos de entrenamiento, además de la cantidad de muestras que se le pasarán al algoritmo. Estos valores se definen en los parámetros X0, a y b."
   ]
  },
  {
   "cell_type": "code",
   "execution_count": 19,
   "metadata": {},
   "outputs": [],
   "source": [
    "import numpy as np\n",
    "from scipy import integrate\n",
    "from matplotlib import pyplot as plt\n",
    "\n",
    "def integrate_sir(time, samples, X0, a, b):\n",
    "    t = np.linspace(0, time, samples)\n",
    "\n",
    "    X, _ = integrate.odeint(sir_dx, X0, t, (a, b), full_output=True)\n",
    "\n",
    "    S, I, R = X.T\n",
    "\n",
    "    return (t, S, I, R)\n",
    "\n",
    "# valores de los parámtros del modelo SIR\n",
    "a = 0.3\n",
    "b = 0.4\n",
    "\n",
    "# punto inicial\n",
    "X0 = [0.7, 0.3, 0]\n",
    "\n",
    "# tiempo en el que se generarán los casos de entrenamiento\n",
    "time = 20\n",
    "\n",
    "# cantidad de muestras\n",
    "n = 10000\n",
    "\n",
    "# datos de entrenamiento\n",
    "t, S, I, R = integrate_sir(time, n, X0, a, b)"
   ]
  },
  {
   "cell_type": "markdown",
   "metadata": {},
   "source": [
    "La representación gráfica de estos datos es la misma mostrada con anterioridad."
   ]
  },
  {
   "cell_type": "markdown",
   "metadata": {},
   "source": [
    "Para encontrar el sistema que mejor describe el conjunto de datos utilizaremos regresión simbólica que es un tipo de regresión que busca dentro de un espacio de expresiones matemáticas el modelo que mejor se ajuste a un conjunto de datos dados. En esta ningún modelo en particular es utilizado en el comienzo, en su lugar se generan expresiones que se forman de manera aleatoria combinando operaciones matemáticas, funciones analíticas, constantes y variables. Normalmente la regresión simbólica para funciones matemáticas es atacado con una variedad de métodos, uno de ellos es la recombinación de ecuaciones usando algoritmos evolutivos y uno de estos puede ser un algoritmo genético.\n",
    "\n",
    "En ciencias de la computación un algoritmo genético es una metaheurística inspirada en el proceso natural de selección. Estos usualmente son utilizados para generar soluciones de alta calidad en problemas de optimización y búsqueda haciendo uso de los conocimientos de la biología, utilizando las acciones de mutación, cruzamiento y selección para modificar una población de individuos con el objetivo de obtener la solución deseada.\n",
    "\n",
    "Es esta metaeurística la que utilizaremos para encontrar el sistema de ecuaciones que mejor se aproxima al conjunto de datos. Teniendo como entrada el conjunto de muestras obtenidas del fenómeno analizado y obteniendo un sistema de ecuaciones diferenciales."
   ]
  },
  {
   "cell_type": "markdown",
   "metadata": {},
   "source": [
    "En las variables se encuentran 10000 muestras, aunque normalmente en una situación de la vida real, no se tendrían tantos datos, y se desea simular los resultados del algoritmo ante una situación del mundo real, por esta razón se realiza el ejemplo con solo 200 muestras."
   ]
  },
  {
   "cell_type": "code",
   "execution_count": 4,
   "metadata": {},
   "outputs": [
    {
     "data": {
      "image/png": "[encoded data removed]",
      "text/plain": [
       "<Figure size 432x288 with 1 Axes>"
      ]
     },
     "metadata": {
      "needs_background": "light"
     },
     "output_type": "display_data"
    }
   ],
   "source": [
    "from src.utils import take_n_samples_regular\n",
    "\n",
    "samples = 200\n",
    "\n",
    "ts = take_n_samples_regular(samples, t)\n",
    "Ss = take_n_samples_regular(samples, S)\n",
    "Is = take_n_samples_regular(samples, I)\n",
    "Rs = take_n_samples_regular(samples, R)\n",
    "\n",
    "plt.plot(ts, Ss, 'x', label=\"Ss samples\")\n",
    "plt.plot(ts, Is, 'x', label=\"Is samples\")\n",
    "plt.plot(ts, Rs, 'x', label=\"Rs samples\")\n",
    "plt.legend()\n",
    "plt.show()"
   ]
  },
  {
   "cell_type": "markdown",
   "metadata": {},
   "source": [
    "La entrada de los datos al algoritmo debe ser de una forma \"especial\", en vez de ser un conjuno de listas como tenemos ahora mismo, debe ser una sola y única lista con los puntos (t, y), y una sola y única lista con los puntos f'(t, y).\n",
    "\n",
    "La datos de la lista que contiene (t, y) son diccionarios, en donde las llaves son los nombres de las variables y los valores son los valores de esas variables en cada uno de los datos. Mientras que los datos de la lista de que contiene a f'(t, y) es una lista de listas con las evaluaciones de cada una de las ecuaciones.\n",
    "\n",
    "Ejemplo de esto se puede poner que si tenemos los siguientes datos del modelo SIR:\n",
    "\n",
    "    f_S(0, 1, 2, 3) = 4\n",
    "    f_I(0, 1, 2, 3) = 5\n",
    "    f_R(0, 1, 2, 3) = 6\n",
    "\n",
    "    f_S(5, 6, 7, 8) = 9\n",
    "    f_I(5, 6, 7, 8) = 10\n",
    "    f_R(5, 6, 7, 8) = 11\n",
    "\n",
    "Tendrímos en las variables anteriores:\n",
    "\n",
    "    T = [0, 5]\n",
    "    S = [1, 6]\n",
    "    I = [2, 7]\n",
    "    R = [3, 8]\n",
    "\n",
    "entonces la primera lista sería de la forma:\n",
    "\n",
    "    [\n",
    "        {\n",
    "            't': 0,\n",
    "            'S': 1,\n",
    "            'I': 2,\n",
    "            'R': 3\n",
    "        },\n",
    "        {\n",
    "            't': 5,\n",
    "            'S': 6,\n",
    "            'I': 7,\n",
    "            'R': 8\n",
    "        }\n",
    "    ]\n",
    "\n",
    "y la segunda lista que contiene las evaluaciones sería de la forma:\n",
    "\n",
    "    [[4, 5, 6], [9, 10, 11]]"
   ]
  },
  {
   "cell_type": "code",
   "execution_count": 5,
   "metadata": {},
   "outputs": [],
   "source": [
    "X_samples = [\n",
    "        {\"t\": ts[i], \"S\": Ss[i], \"I\": Is[i], \"R\": Rs[i]} for i in range(len(ts))\n",
    "    ]\n",
    "\n",
    "ode = [sir_dx([Ss[i], Is[i], Rs[i]], ts[i], a, b) for i in range(len(ts))]"
   ]
  },
  {
   "cell_type": "markdown",
   "metadata": {},
   "source": [
    "Con los datos listos podemos llamar a la función que se encarga de la regresión simbólica, y esta realizará todos los cálculos."
   ]
  },
  {
   "cell_type": "code",
   "execution_count": 25,
   "metadata": {},
   "outputs": [],
   "source": [
    "from src.symbolic_regression import symbolic_regression\n",
    "\n",
    "results = symbolic_regression(\n",
    "        X_samples,\n",
    "        ode,\n",
    "        seed_g=0,\n",
    "        POP_SIZE=100,\n",
    "        FEATURES_NAMES=[[\"S\", \"I\"], [\"S\", \"I\"], [\"I\"]],\n",
    "        MUTATION_SIZE=50,\n",
    "        XOVER_SIZE=50,\n",
    "        MAX_DEPTH=5,\n",
    "        REG_STRENGTH=20,\n",
    "        verbose=False,\n",
    "    )\n",
    "\n",
    "best_system = results[\"system\"]"
   ]
  },
  {
   "cell_type": "markdown",
   "metadata": {},
   "source": [
    "Como podemos ver la función recibe varios parámetros, más de los que se están utilizando en este ejemplo, pero solamente dos de estos son obligarorios, estos son las muestras (t, y) y las evaluaciones de f(t, y).\n",
    "\n",
    "El resto de parámetros se utilizan para ajustar distintas características del algoritmo:\n",
    "\n",
    "- MAX_GENERATIONS: cantidad de generaciones máximas que se desean realizar\n",
    "- POP_SIZE: cantidad de individuos que debe poseer cada generación\n",
    "- FEATURES_NAMES: lista de listas de las variables que pueden ser colocadas en cada ecuación del sistema, en caso de que este parámetro no sea introducido indica que pueden ser colocadas todas las variables en todas las ecuaciones del sistema.\n",
    "- VARIABLE_PROBABILITY: la probabilidad de colocar una variable como resultado de la mutación\n",
    "- CHANGE_OPERATION_PROBABILITY: la probabilidad de modificar una operación como resultado de la mutación\n",
    "- DELETE_NODE_PROBABILITY: la probabilidad de borrar un nodo como resultado de la mutación\n",
    "- ADD_OPERATION_PROBABILITY: la probabilidad de añadir una operación como resultado de la mutación\n",
    "- XOVER_SIZE: cantidad de sistemas que se desean obtener como resultado de cruzamientos\n",
    "- MUTATION_SIZE: cantidad de sistemas que se desean mutar\n",
    "- REG_STRENGTH: cantidad de nodos que posee el sistema a partir del cual el fitness del sistema se comienza a penalizar\n",
    "- EPSILON: cantidad de acercamiento mínimo que puede tener el mejor individuo de una generación para detener el algoritmo\n",
    "- ROUND_SIZE: cantidad de cifras a las cuales se desea redondear\n",
    "- verbose: booleano que indica si se desean imprimir múltiples informaciones a lo largo de la ejecución del algoritmo\n",
    "\n",
    "La razón por la que existen estos parámetros es para poder realizar una mejor búsqueda si se conoce algún dato acerca del sistema de EDOS deseado. Por ejemplo el parámetro FEATURES_NAMES permite indicar que variables no deben aparecer en una ecuación en específica al dejar de introducirlos en la lista correspondiente a esa ecuación. Estas variables deben poseer los mismos nombres con que aparecen en los diccionarios de las muestras de entrada. Esto acelera en gran medida encontrar el sistema pues es una disminución en el espacio de búsqueda notable. Otros parámetros como MAX_GENERATIONS y POP_SIZE influyen directamente en el tiempo de búsqueda al permitir modificar la cantidad de generaciones y aumentar o disminuir la cantidad de individuos en la población.\n",
    "\n",
    "Como resultado de la ejecución del algoritmo obtenemos un diccionario que posee todas los datos de los parámetros utilizados durante la ejecución de la función además de:\n",
    "\n",
    "- time: tiempo que tomó la ejecución\n",
    "- score: puntuación obtenida por el mejor sistema alcanzado\n",
    "- generations: cantidad de generaciones que tuvieron lugar\n",
    "- system: nodo que representa el sistema que mejor acercamiento tuvo al conjunto de datos de entrada\n",
    "- system_representation: representación del system (este dato es un string con la representación del sistema)"
   ]
  },
  {
   "cell_type": "code",
   "execution_count": 26,
   "metadata": {},
   "outputs": [
    {
     "name": "stdout",
     "output_type": "stream",
     "text": [
      "{'ADD_OPERATION_PROBABILITY': 0.4,\n",
      " 'CHANGE_OPERATION_PROBABILITY': 0.3,\n",
      " 'DELETE_NODE_PROBABILITY': 0.3,\n",
      " 'EPSILON': 1e-07,\n",
      " 'FEATURES_NAMES': [['S', 'I'], ['S', 'I'], ['I']],\n",
      " 'MAX_DEPTH': 5,\n",
      " 'MAX_GENERATIONS': 100,\n",
      " 'MUTATION_SIZE': 50,\n",
      " 'POP_SIZE': 100,\n",
      " 'REG_STRENGTH': 20,\n",
      " 'ROUND_SIZE': 5,\n",
      " 'VARIABLE_PROBABILITY': 0.3,\n",
      " 'XOVER_SIZE': 50,\n",
      " 'generations': 2,\n",
      " 'score': 2.2163614738978414e-07,\n",
      " 'seed_g': 0,\n",
      " 'system_representation': '1 : -0.3 * (I * S) \\n'\n",
      "                          '2 : -0.4 * I + 0.3 * (I * S) \\n'\n",
      "                          '3 : 0.13333 * I + 0.13333 * I + 0.13333 * I \\n',\n",
      " 'time': 1.98670705800032}\n"
     ]
    }
   ],
   "source": [
    "from pprint import pprint\n",
    "from copy import deepcopy\n",
    "\n",
    "mini_result = deepcopy(results)\n",
    "\n",
    "#se elimina X y target porque contienen todas los muestras\n",
    "mini_result.pop('X')\n",
    "mini_result.pop('target')\n",
    "\n",
    "#se elimina system porque es el diccionario que almacena el\n",
    "#sistema obtenido por el algoritmo\n",
    "mini_result.pop('system')\n",
    "\n",
    "pprint(mini_result)"
   ]
  },
  {
   "cell_type": "markdown",
   "metadata": {},
   "source": [
    "\n",
    "En system se guarda el sistema de ecuaciones que encontró el algoritmo, este es un diccionario con una estructura específica, no una función. Si evaluamos este sistema en los datos podremos ver que tan parecido es con respecto a los datos originales. Para realizar esta evaluación debemos utilizar el método evaluate que recibe un punto (t, y) en forma de diccionario, sustituye las variables en el sistema y evalúa este obteniendo el f'(t, y) correspondiente.\n"
   ]
  },
  {
   "cell_type": "code",
   "execution_count": 28,
   "metadata": {},
   "outputs": [
    {
     "data": {
      "image/png": "[encoded data removed]",
      "text/plain": [
       "<Figure size 432x288 with 1 Axes>"
      ]
     },
     "metadata": {
      "needs_background": "light"
     },
     "output_type": "display_data"
    }
   ],
   "source": [
    "from src.utils import evaluate\n",
    "\n",
    "integrate_gp = lambda X, t: evaluate(\n",
    "        best_system, {\"t\": t, \"S\": X[0], \"I\": X[1], \"R\": X[2]}\n",
    "    )\n",
    "\n",
    "SIR_gp, infodict = integrate.odeint(integrate_gp, X0, t, full_output=True)\n",
    "\n",
    "S_gp, I_gp, R_gp = SIR_gp.T\n",
    "\n",
    "plt.plot(t, S, label=\"S samples\")\n",
    "plt.plot(t, I, label=\"I samples\")\n",
    "plt.plot(t, R, label=\"R samples\")\n",
    "plt.plot(t, S_gp, ':',label=\"S symbolic regression\")\n",
    "plt.plot(t, I_gp, ':',label=\"I symbolic regression\")\n",
    "plt.plot(t, R_gp, ':',label=\"R symbolic regression\")\n",
    "plt.legend()\n",
    "plt.show()"
   ]
  },
  {
   "cell_type": "markdown",
   "metadata": {},
   "source": [
    "Graficamente se puede ver que los dos sistemas son muy parecidos. Como se veía con anterioridad dentro de results también se encuentra la representación del sistema, que utilizaremos para ver en realidad cuán cercano se encuentra el sistema resultante del algoritmo."
   ]
  },
  {
   "cell_type": "code",
   "execution_count": 12,
   "metadata": {},
   "outputs": [
    {
     "name": "stdout",
     "output_type": "stream",
     "text": [
      "1 : -0.3 * (I * S) \n",
      "2 : -0.4 * I + 0.3 * (I * S) \n",
      "3 : 0.13333 * I + 0.13333 * I + 0.13333 * I \n",
      "\n"
     ]
    }
   ],
   "source": [
    "print(results[\"system_representation\"])"
   ]
  },
  {
   "cell_type": "markdown",
   "metadata": {},
   "source": [
    "La última ecuación en realidad es la misma del modelo original a pesar de estar dividida en un suma de 3 términos."
   ]
  },
  {
   "cell_type": "markdown",
   "metadata": {},
   "source": [
    "Entonces, ya viendo que funciona (al menos en este ejemplo tan sencillito), vale la pena ver que lo que está pasando dentro de la función symbolic_regression.\n",
    "\n",
    "Vemos que recibimos un número grande de parámetros que explicaremos mientras se vayan usando para entender mejor.\n",
    "\n",
    "Luego se incia el temporizador que será utilizado para comprobar cuánto tiempo tomó la ejecución de todo el algoritmo. Se inicializa la semilla que se utilizará en los \"randoms\" de la ejecución.\n",
    "\n",
    "En features_names se almacenan los nombres de las variables que pueden aparecer en cada ecuación del sistema, o sea una una lista de listas en caso de que se pase en los parámetros, en caso de que este no se envíe pues se utilizan todos los parámetros en todas las ecuaciones. Esto es fundamentalmente para ser utilizado si conocemos información del sistema que se desea encontrar.\n",
    "\n",
    "En operations se guardan las operaciones que pueden aparecer dentro de las ecuaciones del sistema.\n",
    "\n",
    "A continuación se crea la población inicial del algoritmo genérico. Para esto se utiliza la función random_system que crea sistemas de ecuaciones aleatorios utilizando las variables en cada ecuación definidas anteriormente, junto con las operaciones, además se hace uso del parámetro MAX_DEPTH para controlar la profundidad que pueden tener estos árboles. La población inicial generada contiene POP_SIZE individuos.\n",
    "\n",
    "Entonces inciamos las generaciones. Definida la máxima cantidad que pueden ocurrir de estas por el parámtro MAX_GENERATIONS.\n",
    "\n",
    "Dentro de cada generación se toma una cantidad de individuos igual a MUTATION_SIZE para ser mutados, resaltar que no es que se muten estos encima del mismo sistema, si no que se crea otro con el resultado de la mutación. Estos individuos mutados son guardados en mutations_populations.\n",
    "\n",
    "Lo que hizo esta función fue seleccionar aleatoriamente individuos de la población y aplicar la función mutate_system sobre ellos. Esta función selecciona un nodo aleatorio dentro del árbol representante del sistema y editar alguna de sus carácterísticas. Estas mutaciones pueden ir desde eliminar un subárbol a sencillamente cambiar la operación en un nodo.\n",
    "\n",
    "Luego se realiza un proceso similar pero esta vez en vez de mutar a individuos, se cruzan entre ellos. Se cruzan una cantidad de 2 * XOVER_SIZE, para obtener un total de XOVER_SIZE individuos resultantes de cruzamientos. La función xover lo que hace es tomar dos sistemas de ecuaciones y devolver uno nuevo con características en común de ambos padres.\n",
    "\n",
    "Entonces podemos generar una nueva población que contiene a la población incial, los individuos mutados y los individuos resultantes de los cruzamientos. Esta nueva población es guardada en total_population.\n",
    "\n",
    "De estos sistemas no conocemos mucho, y necesitamos filtrarlos para quedarnos con una cantidad igual a la población inicial, además de ver que tan bueno fue el mejor de la población generada.\n",
    "\n",
    "Para esto se recorren todos los individuos optimizando sus parámetros para que se ajusten al conjunto de datos. Esto se hace llamando a la función lineal_optimization_system que esta genera un sistema de ecuaciones lineales por cada una de las ecuaciones del sistema optimizando los parámetros y asignándolos en el sistema. Una vez los parámetros han sido ajustados se evalua la calidad del sistema con la función compute_fitness, que esta compara los resultados obtenidos en las evaluaciones del sistema y los resultados objetivos. Mientras este resultado sea lo más cercano a 0, quiere decir que la diferencia entre los resultados es cada menor, por lo tanto es mejor.\n",
    "\n",
    "Si en algún momento el resultado obtenido es menor que un EPSILON definido en los parámetros se detiene la ejecución. Si esto no ocurre pues pasan a la siguiente generación los individuos que mejor puntuación obtuvieron, una cantidad de estos igual a POP_SIZE.\n",
    "\n",
    "Antes de retornar finalmente el sistema obtenido, se redondean los parámetros y se filtran aquellos que son 0 para \"embellecer\" el sistema\n",
    "\n",
    "\n",
    "\n"
   ]
  }
 ],
 "metadata": {
  "interpreter": {
   "hash": "916dbcbb3f70747c44a77c7bcd40155683ae19c65e1c03b4aa3499c5328201f1"
  },
  "kernelspec": {
   "display_name": "Python 3.8.10 64-bit",
   "language": "python",
   "name": "python3"
  },
  "language_info": {
   "codemirror_mode": {
    "name": "ipython",
    "version": 3
   },
   "file_extension": ".py",
   "mimetype": "text/x-python",
   "name": "python",
   "nbconvert_exporter": "python",
   "pygments_lexer": "ipython3",
   "version": "3.8.12"
  },
  "orig_nbformat": 4
 },
 "nbformat": 4,
 "nbformat_minor": 2
}
