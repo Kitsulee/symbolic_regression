{
 "cells": [
  {
   "cell_type": "markdown",
   "metadata": {},
   "source": [
    "Dentro del archivo `utils.py` se encuentran múltiples funciones con diversas tareas no asociadas a una sola labor en concreto."
   ]
  },
  {
   "cell_type": "markdown",
   "metadata": {},
   "source": [
    "`constant_name_assign`: Se encarga de recorrer un subárbol y recoger los valores de todas las constantes asignadas y otorgarles un identificador\n",
    "\n",
    "Parámetros:\n",
    "- selected: nodo raíz del subárbol a inspeccionar\n",
    "Los otros parámetros no deben ser utilizados por el usuario, solo existen para el uso de los llamados recursivos de la función\n",
    "\n",
    "Retorna:\n",
    "Tupla de 3 elementos:\n",
    "(\n",
    "offspring: subárbol resultante de la asignación de identificadores a las constantes,\n",
    "number: cantidad de constantes encontradas en el subárbol,\n",
    "constant: valores de las constantes encontradas\n",
    ")"
   ]
  },
  {
   "cell_type": "markdown",
   "metadata": {},
   "source": [
    "`constant_value_assign`: Se encarga de recorrer un subárbol y asignar valores a las constantes que se encuentran en este\n",
    "\n",
    "Parámetros:\n",
    "- selected: nodo raíz del subárbol a recorrer\n",
    "- constants: diccionario de valores que deben ser asiganados a cada constante en donde el key es el identificador de la constante y el value es el valor que debe ser asignado\n",
    "\n",
    "Retorna:\n",
    "offspring: subárbol resultante de la asignación de valores a las constantes"
   ]
  },
  {
   "cell_type": "markdown",
   "metadata": {},
   "source": [
    "`evaluate`: Evalúa un subárbol con respecto a un conjunto de valores para cada variable\n",
    "\n",
    "Parámetros:\n",
    "- node: nodo raíz del subárbol a evaluar\n",
    "- row: diccionario que contiene los valores de cada varible a sustituir para la evaluación en donde el key es el nombre de la variable y el value es el valor que se desea utilizar\n",
    "\n",
    "Retorna:\n",
    "Resultado de la evaluación"
   ]
  },
  {
   "cell_type": "markdown",
   "metadata": {},
   "source": [
    "`render_prog`: Obtiene la representación en string de un subárbol\n",
    "\n",
    "Parámetros:\n",
    "- node: nodo raíz del subárbol que se desea renderizar\n",
    "\n",
    "Retorna:\n",
    "- string con la representación del subárbol"
   ]
  },
  {
   "cell_type": "markdown",
   "metadata": {},
   "source": [
    "`filter_zero_terms_edo_equation`: Filtra los términos de una ecuación que sus constantes sean menores que el valor definido como ZERO\n",
    "\n",
    "Parámetros:\n",
    "- equation: nodo que representa la ecuación que se desea filtrar\n",
    "\n",
    "Retorna:\n",
    "- offspring: nodo que representa la ecuación luego de ser aplicada la filtración"
   ]
  },
  {
   "cell_type": "markdown",
   "metadata": {},
   "source": [
    "`filter_zero_terms_edo_system`: Aplica la misma filtración de la función anterior pero a todas las ecuaciones de un sistema\n",
    "\n",
    "Parámetros:\n",
    "- system: nodo que representa el sistema que se desea filtrar\n",
    "\n",
    "Retorna:\n",
    "- offspring: nodo que representa el sistema luego de ser aplicada la filtración"
   ]
  },
  {
   "cell_type": "markdown",
   "metadata": {},
   "source": [
    "`round_terms_edo_equation`: Redondea las constantes de los términos de una ecuación.\n",
    "\n",
    "Parámetros:\n",
    "- equation: nodo que representa el sistema que se desea redondear\n",
    "- ROUND_SIZE: cantidad de cifras a las cuales se desea redondear\n",
    "\n",
    "Retorna:\n",
    "- offspring: nodo que representa la ecuación luego de ser aplicado el redondeo"
   ]
  },
  {
   "cell_type": "markdown",
   "metadata": {},
   "source": [
    "`round_terms_edo_system`: Aplica el mismo redondeo de la función anterior pero a todas las ecuaciones de un sistema\n",
    "\n",
    "Parámetros:\n",
    "- system: nodo que representa el sistema que se desea redondear\n",
    "\n",
    "Retorna:\n",
    "- offspring: nodo que representa el sistema luego de ser aplicado el redondeo"
   ]
  },
  {
   "cell_type": "markdown",
   "metadata": {},
   "source": [
    "`save_results`: Permite salvar en un archivo un resultado de la regresión simbólica\n",
    "\n",
    "Parámetros:\n",
    "- results: Resultados arrojados por la función `symbolic_regression`\n",
    "- file_name: Nombre que desea colocar al archivo .json que representa el resultado\n",
    "\n",
    "Retorna:\n",
    "results"
   ]
  },
  {
   "cell_type": "markdown",
   "metadata": {},
   "source": [
    "`get_results`: Permite obtener los resultados de una regresión simbólica guardados en un archivo\n",
    "\n",
    "Parámetros:\n",
    "- file_name: Nombre de donde se desean cargar los resultados (este nombre no tiene que contener el .json al final)\n",
    "\n",
    "Retorna:\n",
    "- data: Resultados cargados del archivo"
   ]
  }
 ],
 "metadata": {
  "language_info": {
   "name": "python"
  },
  "orig_nbformat": 4
 },
 "nbformat": 4,
 "nbformat_minor": 2
}
