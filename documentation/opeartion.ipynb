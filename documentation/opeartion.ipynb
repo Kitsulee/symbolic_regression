{
 "cells": [
  {
   "cell_type": "markdown",
   "metadata": {},
   "source": [
    "Dentro del archivo `operation.py` podemos encontrar múltiples operaciones aritméticas en forma de diccionario con la estructura:\n",
    "\n",
    "    {\n",
    "        'func': función que evalúa la operación aritmética,\n",
    "        'arg_count': aridad de la operación aritmética,\n",
    "        'format_str': representación de la operación aritmética\n",
    "    }\n",
    "\n",
    "Estas se utilizarán posteriormente para definir las posibles operaciones que pueden aparecer en la creación y mutación de los sistemas."
   ]
  }
 ],
 "metadata": {
  "language_info": {
   "name": "python"
  },
  "orig_nbformat": 4
 },
 "nbformat": 4,
 "nbformat_minor": 2
}
