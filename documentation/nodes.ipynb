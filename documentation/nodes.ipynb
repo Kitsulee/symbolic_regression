{
 "cells": [
  {
   "cell_type": "markdown",
   "metadata": {},
   "source": [
    "Los sistemas de ecuaciones están representados por un árbol. Los nodos de este son a su vez representados por diccionarios de python que estos poseen distintos valores dentros:\n",
    "\n",
    "Si el nodo es una hoja del árbol entonces este puede ser:\n",
    "- una constante:\n",
    "        \n",
    "        {'value': <número de la constante>}\n",
    "\n",
    "- una variable:\n",
    "\n",
    "        {'feature_name': <nombre de la variable>}\n",
    "\n",
    "Si el nodo no es una hoja entonces siempre posee la forma:\n",
    "\n",
    "        {\n",
    "                'func': función que evalúa el nodo,\n",
    "                'children': [nodos hijos],\n",
    "                'format_str': función que representa al nodo\n",
    "        }"
   ]
  },
  {
   "cell_type": "markdown",
   "metadata": {},
   "source": [
    "Dentro de los nodos no hojas podemos dividirlos en diferentes tipos en dependencia de su altura en el árbol.\n",
    "\n",
    "- system: Es el nodo raíz del árbol, representa el conjunto de ecuaciones que describen el sistema.\n",
    "- edo_equation: Es el nodo inmediato al system, representa una ecuación en el sistema, o lo que es lo mismo, una suma de términos.\n",
    "- edo_term: Es el nodo inmediato al edo_equation, representa un término dentro de una ecuación del sistema, posee solamente dos hijos, el izquierdo siempre es una constante mientras que el derecho es una operación.\n",
    "- operation_tree: Es el nodo inmediato al edo_term, representa una operación aritmética dentro del término de una ecuación del sistema, posee una cantidad de hijos igual a la aridad de la operación, estos hijos pueden ser variables o más operation_tree."
   ]
  }
 ],
 "metadata": {
  "language_info": {
   "name": "python"
  },
  "orig_nbformat": 4
 },
 "nbformat": 4,
 "nbformat_minor": 2
}
