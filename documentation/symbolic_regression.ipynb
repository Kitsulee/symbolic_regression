{
 "cells": [
  {
   "cell_type": "markdown",
   "metadata": {},
   "source": [
    "Dentro del archivo `symbolic_regression.py` se encuentran las funiones fundamentales de este proyecto, son estas las que deben ser utilizadas a la hora de utilizar esta biblioteca"
   ]
  },
  {
   "cell_type": "markdown",
   "metadata": {},
   "source": [
    "`get_mutate_population`: Muta un conjunto de indivíduos dentro de una población y retorna una lista con los resultados de estas mutaciones\n",
    "\n",
    "Parámetros:\n",
    "- population: lista de nodos representantes de sistemas, de los cuales serán escogidos algunos para mutar\n",
    "- MUTATION_SIZE: cantidad de sistemas que se desean mutar\n",
    "- operations: lista de las operaciones que pueden ser colocadas en los sistemas como resultados de las mutaciones\n",
    "- features_names: lista de listas de las variables que pueden ser colocadas como resultado de la mutación en cada una de las ecuaciones\n",
    "- MAX_DEPTH: la máxima profundidad que puede alcanzar el árbol resultante de la mutación\n",
    "- VARIABLE_PROBABILITY: la probabilidad de colocar una variable como resultado de la mutación\n",
    "- CHANGE_OPERATION_PROBABILITY: la probabilidad de modificar una operación como resultado de la mutación\n",
    "- DELETE_NODE_PROBABILITY: la probabilidad de borrar un nodo como resultado de la mutación\n",
    "- ADD_OPERATION_PROBABILITY: la probabilidad de añadir una operación como resultado de la mutación\n",
    "\n",
    "Retorna:\n",
    "lista de individuos mutados"
   ]
  },
  {
   "cell_type": "markdown",
   "metadata": {},
   "source": [
    "`get_xover_population`: Cruza un conjunto de indivíduos dentro de una población y retorna una lista con los resultados de estos cruzamientos\n",
    "\n",
    "Parámetros:\n",
    "- population: lista de nodos representantes de sistemas, de los cuales serán escogidos algunos para mutar\n",
    "- XOVER_SIZE: cantidad de sistemas que se desean obtener como resultado de cruzamientos\n",
    "- MAX_DEPTH: la máxima profundidad que puede alcanzar el árbol resultante del cruzamiento\n",
    "\n",
    "Retorna:\n",
    "lista de individuos cruzados"
   ]
  },
  {
   "cell_type": "markdown",
   "metadata": {},
   "source": [
    "`symbolic_regression`: Obtine el sistema que mejor aproxima un conjunto de datos mediante una regresión simbólica utilizando algorítmos genéticos\n",
    "\n",
    "Parámetros:\n",
    "- X: lista de diccionarios que posee el conjunto de muestras que se desea utilizar para entrenar, estos diccionarios poseen de keys los nombres de las variables y de values sus valores\n",
    "- target: lista de listas de las evaluaciones de las muestras entrenantes en el sistema que se desea obtener.\n",
    "- MAX_GENERATIONS: cantidad de generaciones máximas que se desaean realizar\n",
    "- POP_SIZE: cantidad de individuos que debe poseer cada generación\n",
    "- FEATURES_NAMES: lista de listas de las variables que pueden ser colocadas en cada ecuación del sistema\n",
    "- VARIABLE_PROBABILITY: la probabilidad de colocar una variable como resultado de la mutación\n",
    "- CHANGE_OPERATION_PROBABILITY: la probabilidad de modificar una operación como resultado de la mutación\n",
    "- DELETE_NODE_PROBABILITY: la probabilidad de borrar un nodo como resultado de la mutación\n",
    "- ADD_OPERATION_PROBABILITY: la probabilidad de añadir una operación como resultado de la mutación\n",
    "- XOVER_SIZE: cantidad de sistemas que se desean obtener como resultado de cruzamientos\n",
    "- MUTATION_SIZE: cantidad de sistemas que se desean mutar\n",
    "- REG_STRENGTH: cantidad de nodos que posee el sistema a partir del cual el fitness del sistema se comienza a penalizar\n",
    "- EPSILON: cantidad de acercamiento mínimo que puede tener el mejor individuo de una generación para detener el algorítmo\n",
    "- ROUND_SIZE: cantidad de cifras a las cuales se desea redondear\n",
    "- verbose: booleano que indica si se desean imprimir múltiples informaciones a lo largo de la ejecución del algorítmo\n",
    "\n",
    "Retorna:\n",
    "Un diccionario que posee todas los datos de los parámetros utilizados durante la ejecución además de:\n",
    "- time: tiempo que tomó la ejecución\n",
    "- score: puntuación obtenida por el mejor sistema alcanzado\n",
    "- generations: cantidad de generaciones que tuvieron lugar\n",
    "- system: nodo que representa el sistema que mejor acercamiento tuvo al conjunto de datos de entrada\n",
    "- system_representation: representación del system\n"
   ]
  }
 ],
 "metadata": {
  "language_info": {
   "name": "python"
  },
  "orig_nbformat": 4
 },
 "nbformat": 4,
 "nbformat_minor": 2
}
