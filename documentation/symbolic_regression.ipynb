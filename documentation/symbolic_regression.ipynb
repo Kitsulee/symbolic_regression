{
 "cells": [
  {
   "cell_type": "markdown",
   "metadata": {},
   "source": [
    "La regresión simbólica es un tipo de regresión que busca dentro de un espacio de expresiones matemáticas el modelo que mejor se ajuste a un conjunto de datos dados. En esta ningún modelo en particular es utilizado en el comienzo, en su lugar se generan expresiones que se forman de manera aleatoria combinando operaciones matemáticas, funciones analíticas, constantes y variables. Usualmente un conjunto de estas son especificadas por una persona pero este no es un requerimiento para el uso de esta técnica. Normalmente la regresión simbólica para funciones matemáticas es atacado con una variedad de métodos, uno de ellos es la recombinación de ecuaciones usando algorítmos genéticos.\n",
    "\n",
    "En ciencias de la computación un algorítmo genético es una metaheurística inspirada en el proceso natural de selección. Estos usualmente son utilizados para generar soluciones de alta calidad en problemas de optimización y búsqueda haciendo uso de los conocimientos de la biología, utilizando las acciones de mutación, cruzamiento y selección para modificar una población de individuos con el objetivo de obtener la solución deseada.\n",
    "\n",
    "\n",
    "En este proyecto se utiliza la regresión simbólica para encontrar el sistema de ecuaciones diferenciales que mejor se aproxime a un conjunto de curvas dados, para esto se hace uso de un algorítmo genético teniendo como individuos de la población a sistemas de ecuaciones. Utilizando un árbol como mecanismo de representación de un sistemas de ecuaciones se implementan funciones de mutación y de cruzamiento que modifican la estructura de estos árboles generando nuevos individuos que luego se evaluarán para comprobar si hubo mejoría en la aproximación deseada."
   ]
  },
  {
   "cell_type": "markdown",
   "metadata": {},
   "source": [
    "Dentro del archivo `symbolic_regression.py` se encuentran las funiones fundamentales de este proyecto, son estas las que deben ser utilizadas a la hora de utilizar esta biblioteca"
   ]
  },
  {
   "cell_type": "markdown",
   "metadata": {},
   "source": [
    "`get_mutate_population`: Muta un conjunto de indivíduos dentro de una población y retorna una lista con los resultados de estas mutaciones\n",
    "\n",
    "Parámetros:\n",
    "- population: lista de nodos representantes de sistemas, de los cuales serán escogidos algunos para mutar\n",
    "- MUTATION_SIZE: cantidad de sistemas que se desean mutar\n",
    "- operations: lista de las operaciones que pueden ser colocadas en los sistemas como resultados de las mutaciones\n",
    "- features_names: lista de listas de las variables que pueden ser colocadas como resultado de la mutación en cada una de las ecuaciones\n",
    "- MAX_DEPTH: la máxima profundidad que puede alcanzar el árbol resultante de la mutación\n",
    "- VARIABLE_PROBABILITY: la probabilidad de colocar una variable como resultado de la mutación\n",
    "- CHANGE_OPERATION_PROBABILITY: la probabilidad de modificar una operación como resultado de la mutación\n",
    "- DELETE_NODE_PROBABILITY: la probabilidad de borrar un nodo como resultado de la mutación\n",
    "- ADD_OPERATION_PROBABILITY: la probabilidad de añadir una operación como resultado de la mutación\n",
    "\n",
    "Retorna:\n",
    "lista de individuos mutados"
   ]
  },
  {
   "cell_type": "markdown",
   "metadata": {},
   "source": [
    "`get_xover_population`: Cruza un conjunto de indivíduos dentro de una población y retorna una lista con los resultados de estos cruzamientos\n",
    "\n",
    "Parámetros:\n",
    "- population: lista de nodos representantes de sistemas, de los cuales serán escogidos algunos para mutar\n",
    "- XOVER_SIZE: cantidad de sistemas que se desean obtener como resultado de cruzamientos\n",
    "- MAX_DEPTH: la máxima profundidad que puede alcanzar el árbol resultante del cruzamiento\n",
    "\n",
    "Retorna:\n",
    "lista de individuos cruzados"
   ]
  },
  {
   "cell_type": "markdown",
   "metadata": {},
   "source": [
    "`symbolic_regression`: Obtine el sistema que mejor aproxima un conjunto de datos mediante una regresión simbólica utilizando algorítmos genéticos\n",
    "\n",
    "Parámetros:\n",
    "- X: lista de diccionarios que posee el conjunto de muestras que se desea utilizar para entrenar, estos diccionarios poseen de keys los nombres de las variables y de values sus valores\n",
    "- target: lista de listas de las evaluaciones de las muestras entrenantes en el sistema que se desea obtener.\n",
    "- MAX_GENERATIONS: cantidad de generaciones máximas que se desaean realizar\n",
    "- POP_SIZE: cantidad de individuos que debe poseer cada generación\n",
    "- FEATURES_NAMES: lista de listas de las variables que pueden ser colocadas en cada ecuación del sistema\n",
    "- VARIABLE_PROBABILITY: la probabilidad de colocar una variable como resultado de la mutación\n",
    "- CHANGE_OPERATION_PROBABILITY: la probabilidad de modificar una operación como resultado de la mutación\n",
    "- DELETE_NODE_PROBABILITY: la probabilidad de borrar un nodo como resultado de la mutación\n",
    "- ADD_OPERATION_PROBABILITY: la probabilidad de añadir una operación como resultado de la mutación\n",
    "- XOVER_SIZE: cantidad de sistemas que se desean obtener como resultado de cruzamientos\n",
    "- MUTATION_SIZE: cantidad de sistemas que se desean mutar\n",
    "- REG_STRENGTH: cantidad de nodos que posee el sistema a partir del cual el fitness del sistema se comienza a penalizar\n",
    "- EPSILON: cantidad de acercamiento mínimo que puede tener el mejor individuo de una generación para detener el algorítmo\n",
    "- ROUND_SIZE: cantidad de cifras a las cuales se desea redondear\n",
    "- verbose: booleano que indica si se desean imprimir múltiples informaciones a lo largo de la ejecución del algorítmo\n",
    "\n",
    "Retorna:\n",
    "Un diccionario que posee todas los datos de los parámetros utilizados durante la ejecución además de:\n",
    "- time: tiempo que tomó la ejecución\n",
    "- score: puntuación obtenida por el mejor sistema alcanzado\n",
    "- generations: cantidad de generaciones que tuvieron lugar\n",
    "- system: nodo que representa el sistema que mejor acercamiento tuvo al conjunto de datos de entrada\n",
    "- system_representation: representación del system\n"
   ]
  }
 ],
 "metadata": {
  "language_info": {
   "name": "python"
  },
  "orig_nbformat": 4
 },
 "nbformat": 4,
 "nbformat_minor": 2
}
