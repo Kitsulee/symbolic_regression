{
 "cells": [
  {
   "cell_type": "markdown",
   "metadata": {},
   "source": [
    "La función `xover` permite cruzar dos sistemas y obtener uno nuevo que posee características de ambos\n",
    "\n",
    "Paramétros:\n",
    "- seleted1 y seleted2: nodos que representan los sistemas que se desean cruzar\n",
    "- MAX_DEPTH máxima altura que debe tener el árbol resultante (ahora mismo este chequeo no se está realizando)"
   ]
  }
 ],
 "metadata": {
  "language_info": {
   "name": "python"
  },
  "orig_nbformat": 4
 },
 "nbformat": 4,
 "nbformat_minor": 2
}
