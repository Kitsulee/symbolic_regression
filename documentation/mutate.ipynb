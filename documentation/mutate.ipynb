{
 "cells": [
  {
   "cell_type": "markdown",
   "metadata": {},
   "source": [
    "Dentro del archivo `mutate.py` encontramos múltiples funciones que se encargan de mutar un tipo de nodo en específico."
   ]
  },
  {
   "cell_type": "markdown",
   "metadata": {},
   "source": [
    "Estas funciones reciben varios parámetros:\n",
    "- `selected`: el nodo seleccionado que recibirá la mutación\n",
    "- `operations`: lista de las operaciones que se permiten colocar en la mutación\n",
    "- `features_names`: lista de listas de las variables que pueden ser colocadas como resultado de la mutación en cada una de las ecuaciones\n",
    "- `MAX_DEPTH`: la máxima profundidad que puede alcanzar el árbol resultante de la mutación\n",
    "- `VARIABLE_PROBABILITY`: la probabilidad de colocar una variable como resultado de la mutación\n",
    "- `CHANGE_OPERATION_PROBABILITY`: la probabilidad de modificar una operación como resultado de la mutación\n",
    "- `DELETE_NODE_PROBABILITY`: la probabilidad de borrar un nodo como resultado de la mutación\n",
    "- `ADD_OPERATION_PROBABILITY`: la probabilidad de añadir una operación como resultado de la mutación"
   ]
  }
 ],
 "metadata": {
  "language_info": {
   "name": "python"
  },
  "orig_nbformat": 4
 },
 "nbformat": 4,
 "nbformat_minor": 2
}
