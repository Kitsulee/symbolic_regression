{
 "cells": [
  {
   "cell_type": "markdown",
   "metadata": {},
   "source": [
    "Dentro del archivo `random_prog.py` podemos encontrar múltiples funciones que se encargar de crear distintos tipos de nodos, estas funciones reciben como parámetros:\n",
    "\n",
    "- system_lenght: cantidad de ecuaciones que debe poseer el sistema generado\n",
    "- operations: las operaciones que deben aparecer en el sistema generado\n",
    "- features_names: las variables que deben aparecer en el sistema generado\n",
    "- MAX_DEPTH: la máxima altura que debe tener el árbol que representa el sistema generado"
   ]
  }
 ],
 "metadata": {
  "language_info": {
   "name": "python"
  },
  "orig_nbformat": 4
 },
 "nbformat": 4,
 "nbformat_minor": 2
}
